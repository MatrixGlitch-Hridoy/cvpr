{
  "nbformat": 4,
  "nbformat_minor": 0,
  "metadata": {
    "accelerator": "GPU",
    "colab": {
      "name": "ProgrammingAssignment-1.ipynb",
      "provenance": []
    },
    "kernelspec": {
      "display_name": "Python 3",
      "language": "python",
      "name": "python3"
    },
    "language_info": {
      "codemirror_mode": {
        "name": "ipython",
        "version": 3
      },
      "file_extension": ".py",
      "mimetype": "text/x-python",
      "name": "python",
      "nbconvert_exporter": "python",
      "pygments_lexer": "ipython3",
      "version": "3.8.5"
    }
  },
  "cells": [
    {
      "cell_type": "code",
      "metadata": {
        "id": "COhcnVwnY1nn"
      },
      "source": [
        "import tensorflow as tf\n",
        "from tensorflow import keras\n",
        "from tensorflow.keras import layers\n",
        "from tensorflow.keras.datasets import mnist\n",
        "\n",
        "from tensorflow.keras.datasets import mnist\n",
        "from tensorflow.keras.utils import to_categorical\n",
        "from tensorflow.keras import layers\n",
        "from tensorflow.keras import models\n",
        "\n",
        "import os\n",
        "import random\n",
        "import numpy as np\n",
        "import matplotlib.pyplot as plt\n",
        "%matplotlib inline\n"
      ],
      "execution_count": 1,
      "outputs": []
    },
    {
      "cell_type": "code",
      "metadata": {
        "colab": {
          "base_uri": "https://localhost:8080/"
        },
        "id": "UgFSPoWIjxG1",
        "outputId": "c4ead82b-4868-4150-fa24-910f64f6671e"
      },
      "source": [
        "(train_images, train_labels), (test_images, test_labels) = mnist.load_data()\n",
        "print(train_images.shape, train_labels.shape)\n",
        "print(test_images.shape, test_labels.shape)"
      ],
      "execution_count": 2,
      "outputs": [
        {
          "output_type": "stream",
          "text": [
            "(60000, 28, 28) (60000,)\n",
            "(10000, 28, 28) (10000,)\n"
          ],
          "name": "stdout"
        }
      ]
    },
    {
      "cell_type": "code",
      "metadata": {
        "id": "ske2HdXd3Y5Z"
      },
      "source": [
        "train_images = train_images.reshape((60000, 28, 28, 1))\n",
        "#train_images = train_images.astype('float32') / 255\n",
        "\n",
        "test_images = test_images.reshape((10000, 28, 28, 1))\n",
        "#test_images = test_images.astype('float32') / 255"
      ],
      "execution_count": 3,
      "outputs": []
    },
    {
      "cell_type": "code",
      "metadata": {
        "id": "cckkL4323jip",
        "colab": {
          "base_uri": "https://localhost:8080/"
        },
        "outputId": "3a86d78a-9722-4fc5-e6e2-46a57d45cc4c"
      },
      "source": [
        "model = keras.Sequential([\n",
        "    ## input layer\n",
        "    keras.Input(shape=(28,28,1)),\n",
        "    \n",
        "    ## hidden layers\n",
        "    layers.Conv2D(filters=32, kernel_size=(5,5), activation='relu'),\n",
        "    layers.MaxPooling2D(pool_size=(2,2)),\n",
        "    layers.Conv2D(filters=64, kernel_size=(3,3), activation='relu'),\n",
        "    layers.MaxPooling2D(pool_size=(2,2)),\n",
        "    layers.Conv2D(filters=64, kernel_size=(3,3), activation='relu'),\n",
        "    layers.MaxPooling2D(pool_size=(2,2)),\n",
        "    \n",
        "    layers.Flatten(),\n",
        "    layers.Dense(64, activation='relu'),\n",
        "    \n",
        "    ## output layer\n",
        "    layers.Dense(10, activation='softmax')\n",
        "])\n",
        "model.summary()"
      ],
      "execution_count": 4,
      "outputs": [
        {
          "output_type": "stream",
          "text": [
            "WARNING:tensorflow:Please add `keras.layers.InputLayer` instead of `keras.Input` to Sequential model. `keras.Input` is intended to be used by Functional model.\n",
            "Model: \"sequential\"\n",
            "_________________________________________________________________\n",
            "Layer (type)                 Output Shape              Param #   \n",
            "=================================================================\n",
            "conv2d (Conv2D)              (None, 24, 24, 32)        832       \n",
            "_________________________________________________________________\n",
            "max_pooling2d (MaxPooling2D) (None, 12, 12, 32)        0         \n",
            "_________________________________________________________________\n",
            "conv2d_1 (Conv2D)            (None, 10, 10, 64)        18496     \n",
            "_________________________________________________________________\n",
            "max_pooling2d_1 (MaxPooling2 (None, 5, 5, 64)          0         \n",
            "_________________________________________________________________\n",
            "conv2d_2 (Conv2D)            (None, 3, 3, 64)          36928     \n",
            "_________________________________________________________________\n",
            "max_pooling2d_2 (MaxPooling2 (None, 1, 1, 64)          0         \n",
            "_________________________________________________________________\n",
            "flatten (Flatten)            (None, 64)                0         \n",
            "_________________________________________________________________\n",
            "dense (Dense)                (None, 64)                4160      \n",
            "_________________________________________________________________\n",
            "dense_1 (Dense)              (None, 10)                650       \n",
            "=================================================================\n",
            "Total params: 61,066\n",
            "Trainable params: 61,066\n",
            "Non-trainable params: 0\n",
            "_________________________________________________________________\n"
          ],
          "name": "stdout"
        }
      ]
    },
    {
      "cell_type": "code",
      "metadata": {
        "colab": {
          "base_uri": "https://localhost:8080/"
        },
        "id": "h0nF0p5834v0",
        "outputId": "d8b1d8e2-f739-475c-ec41-074866b52a68"
      },
      "source": [
        "model.compile( optimizer='adam', loss='sparse_categorical_crossentropy', metrics=['accuracy'] )\n",
        "\n",
        "h= model.fit(x=train_images, y=train_labels, epochs=15,validation_split=0.2, batch_size=64)"
      ],
      "execution_count": 5,
      "outputs": [
        {
          "output_type": "stream",
          "text": [
            "Epoch 1/15\n",
            "750/750 [==============================] - 5s 4ms/step - loss: 0.4516 - accuracy: 0.9019 - val_loss: 0.1182 - val_accuracy: 0.9635\n",
            "Epoch 2/15\n",
            "750/750 [==============================] - 2s 3ms/step - loss: 0.0976 - accuracy: 0.9707 - val_loss: 0.0822 - val_accuracy: 0.9760\n",
            "Epoch 3/15\n",
            "750/750 [==============================] - 2s 3ms/step - loss: 0.0691 - accuracy: 0.9787 - val_loss: 0.0632 - val_accuracy: 0.9823\n",
            "Epoch 4/15\n",
            "750/750 [==============================] - 2s 3ms/step - loss: 0.0547 - accuracy: 0.9828 - val_loss: 0.0676 - val_accuracy: 0.9814\n",
            "Epoch 5/15\n",
            "750/750 [==============================] - 2s 3ms/step - loss: 0.0495 - accuracy: 0.9846 - val_loss: 0.0847 - val_accuracy: 0.9783\n",
            "Epoch 6/15\n",
            "750/750 [==============================] - 2s 3ms/step - loss: 0.0468 - accuracy: 0.9850 - val_loss: 0.0753 - val_accuracy: 0.9830\n",
            "Epoch 7/15\n",
            "750/750 [==============================] - 2s 3ms/step - loss: 0.0409 - accuracy: 0.9874 - val_loss: 0.0692 - val_accuracy: 0.9837\n",
            "Epoch 8/15\n",
            "750/750 [==============================] - 2s 3ms/step - loss: 0.0392 - accuracy: 0.9876 - val_loss: 0.0689 - val_accuracy: 0.9822\n",
            "Epoch 9/15\n",
            "750/750 [==============================] - 2s 3ms/step - loss: 0.0332 - accuracy: 0.9896 - val_loss: 0.0837 - val_accuracy: 0.9793\n",
            "Epoch 10/15\n",
            "750/750 [==============================] - 2s 3ms/step - loss: 0.0325 - accuracy: 0.9902 - val_loss: 0.0651 - val_accuracy: 0.9851\n",
            "Epoch 11/15\n",
            "750/750 [==============================] - 2s 3ms/step - loss: 0.0309 - accuracy: 0.9906 - val_loss: 0.0739 - val_accuracy: 0.9827\n",
            "Epoch 12/15\n",
            "750/750 [==============================] - 2s 3ms/step - loss: 0.0303 - accuracy: 0.9908 - val_loss: 0.0656 - val_accuracy: 0.9865\n",
            "Epoch 13/15\n",
            "750/750 [==============================] - 2s 3ms/step - loss: 0.0267 - accuracy: 0.9920 - val_loss: 0.0774 - val_accuracy: 0.9833\n",
            "Epoch 14/15\n",
            "750/750 [==============================] - 2s 3ms/step - loss: 0.0254 - accuracy: 0.9923 - val_loss: 0.0710 - val_accuracy: 0.9862\n",
            "Epoch 15/15\n",
            "750/750 [==============================] - 2s 3ms/step - loss: 0.0244 - accuracy: 0.9934 - val_loss: 0.0797 - val_accuracy: 0.9847\n"
          ],
          "name": "stdout"
        }
      ]
    },
    {
      "cell_type": "code",
      "metadata": {
        "colab": {
          "base_uri": "https://localhost:8080/",
          "height": 334
        },
        "id": "DtgfpzvBIpiM",
        "outputId": "e5771ea5-49ec-42a4-9b7b-e12df51946ab"
      },
      "source": [
        "plt.figure(figsize=(15,5))\n",
        "plt.subplot(1,2,1)\n",
        "plt.plot(h.history['accuracy'], 'o-', label='train accuracy')\n",
        "plt.plot(h.history['val_accuracy'], 'o-', label = 'validation accuracy')\n",
        "plt.xlabel('Epoch')\n",
        "plt.ylabel('Accuracy')\n",
        "plt.grid(True)\n",
        "plt.legend(loc='lower right')\n",
        "\n",
        "plt.subplot(1,2,2)\n",
        "plt.plot(h.history['loss'], 'o-', label='train loss')\n",
        "plt.plot(h.history['val_loss'], 'o-', label='validation loss')\n",
        "plt.xlabel('Epoch')\n",
        "plt.ylabel('Loss')\n",
        "plt.grid(True)\n",
        "plt.legend(loc='upper right')\n",
        "\n",
        "plt.show()"
      ],
      "execution_count": 6,
      "outputs": [
        {
          "output_type": "display_data",
          "data": {
            "image/png": "[encoded data removed]",
            "text/plain": [
              "<Figure size 1080x360 with 2 Axes>"
            ]
          },
          "metadata": {
            "tags": [],
            "needs_background": "light"
          }
        }
      ]
    },
    {
      "cell_type": "code",
      "metadata": {
        "colab": {
          "base_uri": "https://localhost:8080/"
        },
        "id": "NF7PGVj54OOP",
        "outputId": "8548a2b7-5fd6-4548-af65-86c0864faa35"
      },
      "source": [
        "test_loss, test_acc = model.evaluate(test_images, test_labels)\n",
        "test_acc\n",
        "test_loss"
      ],
      "execution_count": 7,
      "outputs": [
        {
          "output_type": "stream",
          "text": [
            "313/313 [==============================] - 1s 2ms/step - loss: 0.0600 - accuracy: 0.9861\n"
          ],
          "name": "stdout"
        },
        {
          "output_type": "execute_result",
          "data": {
            "text/plain": [
              "0.06001992151141167"
            ]
          },
          "metadata": {
            "tags": []
          },
          "execution_count": 7
        }
      ]
    },
    {
      "cell_type": "markdown",
      "metadata": {
        "id": "sSY9ryVmLAhH"
      },
      "source": [
        "**With Normalization:**\n",
        "adam accuracy: 98.97%\n",
        "sgd accuracy: 98.02%\n",
        "rmsprop: 99.11%\n",
        "\n",
        "**Without Normalization:**\n",
        "adam accuracy: 98.61%\n",
        "sgd accuracy: 97.97%\n",
        "rmsprop: 98.59%"
      ]
    },
    {
      "cell_type": "code",
      "metadata": {
        "id": "qveOg_jd4aWt"
      },
      "source": [
        ""
      ],
      "execution_count": 7,
      "outputs": []
    }
  ]
}